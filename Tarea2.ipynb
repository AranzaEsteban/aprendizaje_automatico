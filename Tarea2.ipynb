{
 "cells": [
  {
   "cell_type": "markdown",
   "metadata": {},
   "source": [
    "## Tarea 2: Limpieza del conjutno de datos\n",
    "\n",
    "Dentro de este notebook, se trabajo en la depuración de los datos con el fin de facilitar los futuros análisis que se desarrollen a lo largo de este curso."
   ]
  },
  {
   "cell_type": "markdown",
   "metadata": {},
   "source": [
    "Impotación de librerias y lectura del conjunto de datos"
   ]
  },
  {
   "cell_type": "code",
   "execution_count": 7,
   "metadata": {},
   "outputs": [
    {
     "name": "stdout",
     "output_type": "stream",
     "text": [
      "<class 'pandas.core.frame.DataFrame'>\n",
      "RangeIndex: 855969 entries, 0 to 855968\n",
      "Data columns (total 73 columns):\n",
      " #   Column                       Non-Null Count   Dtype  \n",
      "---  ------                       --------------   -----  \n",
      " 0   id                           855969 non-null  int64  \n",
      " 1   member_id                    855969 non-null  int64  \n",
      " 2   loan_amnt                    855969 non-null  int64  \n",
      " 3   funded_amnt                  855969 non-null  int64  \n",
      " 4   funded_amnt_inv              855969 non-null  float64\n",
      " 5   term                         855969 non-null  object \n",
      " 6   int_rate                     855969 non-null  float64\n",
      " 7   installment                  855969 non-null  float64\n",
      " 8   grade                        855969 non-null  object \n",
      " 9   sub_grade                    855969 non-null  object \n",
      " 10  emp_title                    806526 non-null  object \n",
      " 11  emp_length                   812908 non-null  object \n",
      " 12  home_ownership               855969 non-null  object \n",
      " 13  annual_inc                   855969 non-null  float64\n",
      " 14  verification_status          855969 non-null  object \n",
      " 15  issue_d                      855969 non-null  object \n",
      " 16  pymnt_plan                   855969 non-null  object \n",
      " 17  desc                         121810 non-null  object \n",
      " 18  purpose                      855969 non-null  object \n",
      " 19  title                        855935 non-null  object \n",
      " 20  zip_code                     855969 non-null  object \n",
      " 21  addr_state                   855969 non-null  object \n",
      " 22  dti                          855969 non-null  float64\n",
      " 23  delinq_2yrs                  855969 non-null  int64  \n",
      " 24  earliest_cr_line             855969 non-null  object \n",
      " 25  inq_last_6mths               855969 non-null  int64  \n",
      " 26  mths_since_last_delinq       416157 non-null  float64\n",
      " 27  mths_since_last_record       131184 non-null  float64\n",
      " 28  open_acc                     855969 non-null  int64  \n",
      " 29  pub_rec                      855969 non-null  int64  \n",
      " 30  revol_bal                    855969 non-null  int64  \n",
      " 31  revol_util                   855523 non-null  float64\n",
      " 32  total_acc                    855969 non-null  int64  \n",
      " 33  initial_list_status          855969 non-null  object \n",
      " 34  out_prncp                    855969 non-null  float64\n",
      " 35  out_prncp_inv                855969 non-null  float64\n",
      " 36  total_pymnt                  855969 non-null  float64\n",
      " 37  total_pymnt_inv              855969 non-null  float64\n",
      " 38  total_rec_prncp              855969 non-null  float64\n",
      " 39  total_rec_int                855969 non-null  float64\n",
      " 40  total_rec_late_fee           855969 non-null  float64\n",
      " 41  recoveries                   855969 non-null  float64\n",
      " 42  collection_recovery_fee      855969 non-null  float64\n",
      " 43  last_pymnt_d                 847107 non-null  object \n",
      " 44  last_pymnt_amnt              855969 non-null  float64\n",
      " 45  next_pymnt_d                 602998 non-null  object \n",
      " 46  last_credit_pull_d           855919 non-null  object \n",
      " 47  collections_12_mths_ex_med   855913 non-null  float64\n",
      " 48  mths_since_last_major_derog  213139 non-null  float64\n",
      " 49  policy_code                  855969 non-null  int64  \n",
      " 50  application_type             855969 non-null  object \n",
      " 51  annual_inc_joint             442 non-null     float64\n",
      " 52  dti_joint                    442 non-null     float64\n",
      " 53  verification_status_joint    442 non-null     object \n",
      " 54  acc_now_delinq               855969 non-null  int64  \n",
      " 55  tot_coll_amt                 788656 non-null  float64\n",
      " 56  tot_cur_bal                  788656 non-null  float64\n",
      " 57  open_acc_6m                  13288 non-null   float64\n",
      " 58  open_il_6m                   13288 non-null   float64\n",
      " 59  open_il_12m                  13288 non-null   float64\n",
      " 60  open_il_24m                  13288 non-null   float64\n",
      " 61  mths_since_rcnt_il           12934 non-null   float64\n",
      " 62  total_bal_il                 13288 non-null   float64\n",
      " 63  il_util                      11609 non-null   float64\n",
      " 64  open_rv_12m                  13288 non-null   float64\n",
      " 65  open_rv_24m                  13288 non-null   float64\n",
      " 66  max_bal_bc                   13288 non-null   float64\n",
      " 67  all_util                     13288 non-null   float64\n",
      " 68  total_rev_hi_lim             788656 non-null  float64\n",
      " 69  inq_fi                       13288 non-null   float64\n",
      " 70  total_cu_tl                  13288 non-null   float64\n",
      " 71  inq_last_12m                 13288 non-null   float64\n",
      " 72  default_ind                  855969 non-null  int64  \n",
      "dtypes: float64(39), int64(13), object(21)\n",
      "memory usage: 476.7+ MB\n"
     ]
    }
   ],
   "source": [
    "import pandas as pd\n",
    "import pandas as pd \n",
    "import numpy as np\n",
    "from sklearn.preprocessing import LabelEncoder\n",
    "import re\n",
    "import seaborn as sns\n",
    "\n",
    "loans = pd.read_csv('C:/Users/AranzaEstebanAvalos/Documents/Aprendizaje_Automatico/data.csv', low_memory=False)\n",
    "loans.info()"
   ]
  },
  {
   "cell_type": "code",
   "execution_count": 2,
   "metadata": {},
   "outputs": [
    {
     "data": {
      "text/plain": [
       "id                       0\n",
       "member_id                0\n",
       "loan_amnt                0\n",
       "funded_amnt              0\n",
       "funded_amnt_inv          0\n",
       "                     ...  \n",
       "total_rev_hi_lim     67313\n",
       "inq_fi              842681\n",
       "total_cu_tl         842681\n",
       "inq_last_12m        842681\n",
       "default_ind              0\n",
       "Length: 73, dtype: int64"
      ]
     },
     "execution_count": 2,
     "metadata": {},
     "output_type": "execute_result"
    }
   ],
   "source": [
    "loans.isnull().sum()"
   ]
  },
  {
   "cell_type": "code",
   "execution_count": 3,
   "metadata": {},
   "outputs": [
    {
     "data": {
      "text/plain": [
       "Index(['id', 'member_id', 'loan_amnt', 'funded_amnt', 'funded_amnt_inv',\n",
       "       'term', 'int_rate', 'installment', 'grade', 'sub_grade', 'emp_title',\n",
       "       'emp_length', 'home_ownership', 'annual_inc', 'verification_status',\n",
       "       'issue_d', 'pymnt_plan', 'desc', 'purpose', 'title', 'zip_code',\n",
       "       'addr_state', 'dti', 'delinq_2yrs', 'earliest_cr_line',\n",
       "       'inq_last_6mths', 'mths_since_last_delinq', 'mths_since_last_record',\n",
       "       'open_acc', 'pub_rec', 'revol_bal', 'revol_util', 'total_acc',\n",
       "       'initial_list_status', 'out_prncp', 'out_prncp_inv', 'total_pymnt',\n",
       "       'total_pymnt_inv', 'total_rec_prncp', 'total_rec_int',\n",
       "       'total_rec_late_fee', 'recoveries', 'collection_recovery_fee',\n",
       "       'last_pymnt_d', 'last_pymnt_amnt', 'next_pymnt_d', 'last_credit_pull_d',\n",
       "       'collections_12_mths_ex_med', 'mths_since_last_major_derog',\n",
       "       'policy_code', 'application_type', 'annual_inc_joint', 'dti_joint',\n",
       "       'verification_status_joint', 'acc_now_delinq', 'tot_coll_amt',\n",
       "       'tot_cur_bal', 'open_acc_6m', 'open_il_6m', 'open_il_12m',\n",
       "       'open_il_24m', 'mths_since_rcnt_il', 'total_bal_il', 'il_util',\n",
       "       'open_rv_12m', 'open_rv_24m', 'max_bal_bc', 'all_util',\n",
       "       'total_rev_hi_lim', 'inq_fi', 'total_cu_tl', 'inq_last_12m',\n",
       "       'default_ind'],\n",
       "      dtype='object')"
      ]
     },
     "execution_count": 3,
     "metadata": {},
     "output_type": "execute_result"
    }
   ],
   "source": [
    "loans.columns"
   ]
  },
  {
   "cell_type": "code",
   "execution_count": 8,
   "metadata": {},
   "outputs": [],
   "source": [
    "# Eliminar columnas que se descartaran para el análisis\n",
    "remove_col = [\n",
    "    'emp_title',\n",
    "    'issue_d',\n",
    "    'desc',\n",
    "    'zip_code',\n",
    "    'addr_state',\n",
    "    'earliest_cr_line',\n",
    "    'last_pymnt_d',\n",
    "    'last_pymnt_amnt',\n",
    "    'next_pymnt_d',\n",
    "    'last_credit_pull_d',\n",
    "    'collections_12_mths_ex_med',\n",
    "    'mths_since_last_major_derog', \n",
    "    'open_acc_6m',\n",
    "    'open_il_6m', \n",
    "    'open_il_12m', \n",
    "    'open_il_24m', \n",
    "    'open_rv_12m' ,\n",
    "    'open_rv_24m', \n",
    "    'max_bal_bc',\n",
    "    'grade'\n",
    "]\n",
    "\n",
    "loans = loans.drop(remove_col, axis=1)"
   ]
  },
  {
   "cell_type": "markdown",
   "metadata": {},
   "source": [
    "Reemplazar valores en colmunas con el fin de obtener valores númericos unicamente"
   ]
  },
  {
   "cell_type": "code",
   "execution_count": 9,
   "metadata": {},
   "outputs": [
    {
     "data": {
      "text/plain": [
       "0         10\n",
       "1          0\n",
       "2         10\n",
       "3         10\n",
       "4          1\n",
       "          ..\n",
       "855964     8\n",
       "855965    10\n",
       "855966     5\n",
       "855967     1\n",
       "855968    10\n",
       "Name: emp_length, Length: 855969, dtype: object"
      ]
     },
     "execution_count": 9,
     "metadata": {},
     "output_type": "execute_result"
    }
   ],
   "source": [
    "\n",
    "# Omitir palabras en term para obtener valores numericos\n",
    "loans['term'] = loans['term'].str.replace(' months', '')\n",
    "\n",
    "# reemplazar '< 1 year' por 0's y omitir palabras 'years/year'\n",
    "loans['emp_length'] = loans['emp_length'].str.replace('< 1 year', '0') \n",
    "loans['emp_length'] = loans['emp_length'].str.replace('+ years', '')\n",
    "loans['emp_length'] = loans['emp_length'].str.replace(' years', '')\n",
    "loans['emp_length'] = loans['emp_length'].str.replace(' year', '')\n",
    "\n",
    "loans['emp_length']"
   ]
  },
  {
   "cell_type": "markdown",
   "metadata": {},
   "source": [
    "Asignar valor numerico a las sub calificaciones"
   ]
  },
  {
   "cell_type": "code",
   "execution_count": 10,
   "metadata": {},
   "outputs": [
    {
     "data": {
      "text/plain": [
       "<bound method Series.unique of 0         B2\n",
       "1         C4\n",
       "2         C5\n",
       "3         C1\n",
       "4         B5\n",
       "          ..\n",
       "855964    B5\n",
       "855965    B5\n",
       "855966    D2\n",
       "855967    E3\n",
       "855968    B5\n",
       "Name: sub_grade, Length: 855969, dtype: object>"
      ]
     },
     "execution_count": 10,
     "metadata": {},
     "output_type": "execute_result"
    }
   ],
   "source": [
    "# Obtener valores unicos\n",
    "loans['sub_grade'].unique"
   ]
  },
  {
   "cell_type": "code",
   "execution_count": 12,
   "metadata": {},
   "outputs": [
    {
     "name": "stdout",
     "output_type": "stream",
     "text": [
      "{'A1': 0, 'A2': 1, 'A3': 2, 'A4': 3, 'A5': 4, 'B1': 5, 'B2': 6, 'B3': 7, 'B4': 8, 'B5': 9, 'C1': 10, 'C2': 11, 'C3': 12, 'C4': 13, 'C5': 14, 'D1': 15, 'D2': 16, 'D3': 17, 'D4': 18, 'D5': 19, 'E1': 20, 'E2': 21, 'E3': 22, 'E4': 23, 'E5': 24, 'F1': 25, 'F2': 26, 'F3': 27, 'F4': 28, 'F5': 29, 'G1': 30, 'G2': 31, 'G3': 32, 'G4': 33, 'G5': 34}\n"
     ]
    }
   ],
   "source": [
    "subgrades = loans['sub_grade'].unique()\n",
    "\n",
    "# Definir una función para ordenar las subcalificaciones\n",
    "def custom_sort_key(subgrade):\n",
    "    match = re.match(r'([A-Za-z]+)(\\d+)', subgrade)\n",
    "    letter = match.group(1)\n",
    "    number = int(match.group(2))\n",
    "    return letter, number\n",
    "\n",
    "# Ordenar las subcalificaciones usando la función personalizada\n",
    "sorted_subgrades = sorted(subgrades, key=custom_sort_key)\n",
    "\n",
    "encoder = LabelEncoder()\n",
    "encoder.fit(sorted_subgrades)\n",
    "\n",
    "# Crear una columna 'sub_grade_encoded' con los nuevos valores\n",
    "loans['sub_grade_encoded'] = encoder.transform(loans['sub_grade'])\n",
    "\n",
    "# Crear un diccionario para idetntifacar lo nuevos valores asignados\n",
    "dict_subgrade = dict(zip(sorted_subgrades, encoder.transform(sorted_subgrades)))\n",
    "print(dict_subgrade)\n"
   ]
  },
  {
   "cell_type": "code",
   "execution_count": 13,
   "metadata": {},
   "outputs": [
    {
     "name": "stdout",
     "output_type": "stream",
     "text": [
      "{'car': 0, 'credit_card': 1, 'debt_consolidation': 2, 'educational': 3, 'home_improvement': 4, 'house': 5, 'major_purchase': 6, 'medical': 7, 'moving': 8, 'other': 9, 'renewable_energy': 10, 'small_business': 11, 'vacation': 12, 'wedding': 13}\n"
     ]
    }
   ],
   "source": [
    "loans['purpose'].unique()\n",
    "encoder = LabelEncoder()\n",
    "encoder.fit(loans['purpose'])\n",
    "\n",
    "# Obtener la lista de categorías únicas y sus valores numéricos\n",
    "categorias = encoder.classes_\n",
    "idcode = encoder.transform(categorias)\n",
    "\n",
    "# Guardar valores correspondientes al numero en un diccionario dictionary\n",
    "dict_purpose = dict(zip(categorias, idcode))\n",
    "print(dict_purpose)\n"
   ]
  },
  {
   "cell_type": "code",
   "execution_count": 14,
   "metadata": {},
   "outputs": [
    {
     "data": {
      "text/plain": [
       "<bound method Series.unique of 0                Verified\n",
       "1         Source Verified\n",
       "2            Not Verified\n",
       "3         Source Verified\n",
       "4         Source Verified\n",
       "               ...       \n",
       "855964           Verified\n",
       "855965           Verified\n",
       "855966           Verified\n",
       "855967    Source Verified\n",
       "855968           Verified\n",
       "Name: verification_status, Length: 855969, dtype: object>"
      ]
     },
     "execution_count": 14,
     "metadata": {},
     "output_type": "execute_result"
    }
   ],
   "source": [
    "loans['verification_status'].unique"
   ]
  },
  {
   "cell_type": "code",
   "execution_count": 16,
   "metadata": {},
   "outputs": [
    {
     "name": "stdout",
     "output_type": "stream",
     "text": [
      "{'Not Verified': 0, 'Source Verified': 1, 'Verified': 2}\n"
     ]
    }
   ],
   "source": [
    "data = {'verification_status': ['Not Verified', 'Source Verified', 'Verified']}\n",
    "\n",
    "encoder = LabelEncoder()\n",
    "encoder.fit(loans['verification_status'])\n",
    "\n",
    "# Obtener la lista de categorías únicas y sus valores numéricos\n",
    "categorias = encoder.classes_\n",
    "valores_numericos = encoder.transform(categorias)\n",
    "\n",
    "# Crear un diccionario para identificar el  número asignado\n",
    "veristatus_dict = dict(zip(categorias, valores_numericos))\n",
    "print(veristatus_dict)\n"
   ]
  },
  {
   "cell_type": "markdown",
   "metadata": {},
   "source": [
    "Generar nueva columna con el periodo del prestamo"
   ]
  },
  {
   "cell_type": "code",
   "execution_count": 101,
   "metadata": {},
   "outputs": [
    {
     "name": "stdout",
     "output_type": "stream",
     "text": [
      "              id  member_id  loan_amnt  funded_amnt  funded_amnt_inv  \\\n",
      "0        1077501    1296599       5000         5000           4975.0   \n",
      "1        1077430    1314167       2500         2500           2500.0   \n",
      "2        1077175    1313524       2400         2400           2400.0   \n",
      "3        1076863    1277178      10000        10000          10000.0   \n",
      "4        1075358    1311748       3000         3000           3000.0   \n",
      "...          ...        ...        ...          ...              ...   \n",
      "855964  36371250   39102635      10000        10000          10000.0   \n",
      "855965  36441262   39152692      24000        24000          24000.0   \n",
      "855966  36271333   38982739      13000        13000          13000.0   \n",
      "855967  36490806   39222577      12000        12000          12000.0   \n",
      "855968  36271262   38982659      20000        20000          20000.0   \n",
      "\n",
      "              term  int_rate  installment grade  sub_grade  ... open_rv_12m  \\\n",
      "0        36 months     10.65       162.87     B          6  ...         NaN   \n",
      "1        60 months     15.27        59.83     C         13  ...         NaN   \n",
      "2        36 months     15.96        84.33     C         14  ...         NaN   \n",
      "3        36 months     13.49       339.31     C         10  ...         NaN   \n",
      "4        60 months     12.69        67.79     B          9  ...         NaN   \n",
      "...            ...       ...          ...   ...        ...  ...         ...   \n",
      "855964   36 months     11.99       332.10     B          9  ...         NaN   \n",
      "855965   36 months     11.99       797.03     B          9  ...         NaN   \n",
      "855966   60 months     15.99       316.07     D         16  ...         NaN   \n",
      "855967   60 months     19.99       317.86     E         22  ...         NaN   \n",
      "855968   36 months     11.99       664.20     B          9  ...         NaN   \n",
      "\n",
      "       open_rv_24m max_bal_bc  all_util total_rev_hi_lim inq_fi total_cu_tl  \\\n",
      "0              NaN        NaN       NaN              NaN    NaN         NaN   \n",
      "1              NaN        NaN       NaN              NaN    NaN         NaN   \n",
      "2              NaN        NaN       NaN              NaN    NaN         NaN   \n",
      "3              NaN        NaN       NaN              NaN    NaN         NaN   \n",
      "4              NaN        NaN       NaN              NaN    NaN         NaN   \n",
      "...            ...        ...       ...              ...    ...         ...   \n",
      "855964         NaN        NaN       NaN          17100.0    NaN         NaN   \n",
      "855965         NaN        NaN       NaN          10200.0    NaN         NaN   \n",
      "855966         NaN        NaN       NaN          18000.0    NaN         NaN   \n",
      "855967         NaN        NaN       NaN          27000.0    NaN         NaN   \n",
      "855968         NaN        NaN       NaN          41700.0    NaN         NaN   \n",
      "\n",
      "       inq_last_12m default_ind credit_history_length  \n",
      "0               NaN     11322.0                     0  \n",
      "1               NaN      5267.0                     1  \n",
      "2               NaN      5174.0                     0  \n",
      "3               NaN      6909.0                     0  \n",
      "4               NaN      7305.0                     0  \n",
      "...             ...         ...                   ...  \n",
      "855964          NaN      4139.0                     0  \n",
      "855965          NaN     15281.0                     0  \n",
      "855966          NaN      4505.0                     0  \n",
      "855967          NaN      4475.0                     0  \n",
      "855968          NaN      5144.0                     0  \n",
      "\n",
      "[855969 rows x 74 columns]\n"
     ]
    }
   ],
   "source": [
    "\n",
    "# Calcular la diferencia de días y giardar en una nueva columna 'history_length'\n",
    "loans['credit_history_length'] = (pd.to_datetime(loans['last_credit_pull_d'], format=\"%d-%m-%Y\") - pd.to_datetime(loans['earliest_cr_line'], format=\"%d-%m-%Y\")).dt.days\n",
    "\n",
    "# Intercambia los valores de 'credit_history_length' y 'default_ind'\n",
    "loans['credit_history_length'], loans['default_ind'] = loans['default_ind'], loans['credit_history_length']\n",
    "print(loans)\n"
   ]
  }
 ],
 "metadata": {
  "kernelspec": {
   "display_name": "env",
   "language": "python",
   "name": "python3"
  },
  "language_info": {
   "codemirror_mode": {
    "name": "ipython",
    "version": 3
   },
   "file_extension": ".py",
   "mimetype": "text/x-python",
   "name": "python",
   "nbconvert_exporter": "python",
   "pygments_lexer": "ipython3",
   "version": "3.11.4"
  },
  "orig_nbformat": 4
 },
 "nbformat": 4,
 "nbformat_minor": 2
}
